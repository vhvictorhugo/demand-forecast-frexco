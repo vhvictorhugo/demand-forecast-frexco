{
 "cells": [
  {
   "cell_type": "markdown",
   "id": "662abc75",
   "metadata": {},
   "source": [
    "\n",
    "# <center>*Desafio Tech - Data Analitycs - Frexco*</center>\n",
    "---------------------------------------------------------------\n",
    "## Autor: Victor Hugo Santos\n",
    "## E-mail: victorhsantos.ti@gmail.com"
   ]
  },
  {
   "cell_type": "markdown",
   "id": "fb8267d0",
   "metadata": {},
   "source": [
    "## Bibliotecas Básicas"
   ]
  },
  {
   "cell_type": "code",
   "execution_count": 249,
   "id": "955175e8",
   "metadata": {},
   "outputs": [],
   "source": [
    "import pandas as pd\n",
    "import matplotlib.pyplot as plt\n",
    "import numpy as np\n",
    "import math"
   ]
  },
  {
   "cell_type": "markdown",
   "id": "8c4c03eb",
   "metadata": {},
   "source": [
    "## Importação dos Dados"
   ]
  },
  {
   "cell_type": "code",
   "execution_count": 250,
   "id": "54264732",
   "metadata": {},
   "outputs": [],
   "source": [
    "df = pd.read_excel(\"Dados.xlsx\")"
   ]
  },
  {
   "cell_type": "code",
   "execution_count": 251,
   "id": "30e551f2",
   "metadata": {},
   "outputs": [
    {
     "data": {
      "text/html": [
       "<div>\n",
       "<style scoped>\n",
       "    .dataframe tbody tr th:only-of-type {\n",
       "        vertical-align: middle;\n",
       "    }\n",
       "\n",
       "    .dataframe tbody tr th {\n",
       "        vertical-align: top;\n",
       "    }\n",
       "\n",
       "    .dataframe thead th {\n",
       "        text-align: right;\n",
       "    }\n",
       "</style>\n",
       "<table border=\"1\" class=\"dataframe\">\n",
       "  <thead>\n",
       "    <tr style=\"text-align: right;\">\n",
       "      <th></th>\n",
       "      <th>Data</th>\n",
       "      <th>Vendas</th>\n",
       "    </tr>\n",
       "  </thead>\n",
       "  <tbody>\n",
       "    <tr>\n",
       "      <th>0</th>\n",
       "      <td>2022-12-06</td>\n",
       "      <td>870</td>\n",
       "    </tr>\n",
       "    <tr>\n",
       "      <th>1</th>\n",
       "      <td>2022-12-07</td>\n",
       "      <td>868</td>\n",
       "    </tr>\n",
       "    <tr>\n",
       "      <th>2</th>\n",
       "      <td>2022-12-08</td>\n",
       "      <td>1189</td>\n",
       "    </tr>\n",
       "    <tr>\n",
       "      <th>3</th>\n",
       "      <td>2022-12-09</td>\n",
       "      <td>742</td>\n",
       "    </tr>\n",
       "    <tr>\n",
       "      <th>4</th>\n",
       "      <td>2022-12-10</td>\n",
       "      <td>317</td>\n",
       "    </tr>\n",
       "    <tr>\n",
       "      <th>5</th>\n",
       "      <td>2022-12-11</td>\n",
       "      <td>685</td>\n",
       "    </tr>\n",
       "    <tr>\n",
       "      <th>6</th>\n",
       "      <td>2022-12-12</td>\n",
       "      <td>1366</td>\n",
       "    </tr>\n",
       "    <tr>\n",
       "      <th>7</th>\n",
       "      <td>2022-12-13</td>\n",
       "      <td>1213</td>\n",
       "    </tr>\n",
       "    <tr>\n",
       "      <th>8</th>\n",
       "      <td>2022-12-14</td>\n",
       "      <td>1055</td>\n",
       "    </tr>\n",
       "    <tr>\n",
       "      <th>9</th>\n",
       "      <td>2022-12-15</td>\n",
       "      <td>1343</td>\n",
       "    </tr>\n",
       "    <tr>\n",
       "      <th>10</th>\n",
       "      <td>2022-12-16</td>\n",
       "      <td>832</td>\n",
       "    </tr>\n",
       "    <tr>\n",
       "      <th>11</th>\n",
       "      <td>2022-12-17</td>\n",
       "      <td>240</td>\n",
       "    </tr>\n",
       "    <tr>\n",
       "      <th>12</th>\n",
       "      <td>2022-12-18</td>\n",
       "      <td>235</td>\n",
       "    </tr>\n",
       "    <tr>\n",
       "      <th>13</th>\n",
       "      <td>2022-12-19</td>\n",
       "      <td>1050</td>\n",
       "    </tr>\n",
       "    <tr>\n",
       "      <th>14</th>\n",
       "      <td>2022-12-20</td>\n",
       "      <td>711</td>\n",
       "    </tr>\n",
       "    <tr>\n",
       "      <th>15</th>\n",
       "      <td>2022-12-21</td>\n",
       "      <td>745</td>\n",
       "    </tr>\n",
       "    <tr>\n",
       "      <th>16</th>\n",
       "      <td>2022-12-22</td>\n",
       "      <td>1009</td>\n",
       "    </tr>\n",
       "    <tr>\n",
       "      <th>17</th>\n",
       "      <td>2022-12-23</td>\n",
       "      <td>18</td>\n",
       "    </tr>\n",
       "    <tr>\n",
       "      <th>18</th>\n",
       "      <td>2022-12-24</td>\n",
       "      <td>40</td>\n",
       "    </tr>\n",
       "    <tr>\n",
       "      <th>19</th>\n",
       "      <td>2022-12-25</td>\n",
       "      <td>67</td>\n",
       "    </tr>\n",
       "    <tr>\n",
       "      <th>20</th>\n",
       "      <td>2022-12-26</td>\n",
       "      <td>821</td>\n",
       "    </tr>\n",
       "    <tr>\n",
       "      <th>21</th>\n",
       "      <td>2022-12-27</td>\n",
       "      <td>572</td>\n",
       "    </tr>\n",
       "    <tr>\n",
       "      <th>22</th>\n",
       "      <td>2022-12-28</td>\n",
       "      <td>429</td>\n",
       "    </tr>\n",
       "    <tr>\n",
       "      <th>23</th>\n",
       "      <td>2022-12-29</td>\n",
       "      <td>638</td>\n",
       "    </tr>\n",
       "    <tr>\n",
       "      <th>24</th>\n",
       "      <td>2022-12-30</td>\n",
       "      <td>106</td>\n",
       "    </tr>\n",
       "    <tr>\n",
       "      <th>25</th>\n",
       "      <td>2022-12-31</td>\n",
       "      <td>54</td>\n",
       "    </tr>\n",
       "    <tr>\n",
       "      <th>26</th>\n",
       "      <td>2023-01-01</td>\n",
       "      <td>144</td>\n",
       "    </tr>\n",
       "    <tr>\n",
       "      <th>27</th>\n",
       "      <td>2023-01-02</td>\n",
       "      <td>814</td>\n",
       "    </tr>\n",
       "    <tr>\n",
       "      <th>28</th>\n",
       "      <td>2023-01-03</td>\n",
       "      <td>679</td>\n",
       "    </tr>\n",
       "    <tr>\n",
       "      <th>29</th>\n",
       "      <td>2023-01-04</td>\n",
       "      <td>712</td>\n",
       "    </tr>\n",
       "    <tr>\n",
       "      <th>30</th>\n",
       "      <td>2023-01-05</td>\n",
       "      <td>1229</td>\n",
       "    </tr>\n",
       "    <tr>\n",
       "      <th>31</th>\n",
       "      <td>2023-01-06</td>\n",
       "      <td>821</td>\n",
       "    </tr>\n",
       "    <tr>\n",
       "      <th>32</th>\n",
       "      <td>2023-01-07</td>\n",
       "      <td>319</td>\n",
       "    </tr>\n",
       "    <tr>\n",
       "      <th>33</th>\n",
       "      <td>2023-01-08</td>\n",
       "      <td>317</td>\n",
       "    </tr>\n",
       "    <tr>\n",
       "      <th>34</th>\n",
       "      <td>2023-01-09</td>\n",
       "      <td>1317</td>\n",
       "    </tr>\n",
       "    <tr>\n",
       "      <th>35</th>\n",
       "      <td>2023-01-10</td>\n",
       "      <td>807</td>\n",
       "    </tr>\n",
       "    <tr>\n",
       "      <th>36</th>\n",
       "      <td>2023-01-11</td>\n",
       "      <td>923</td>\n",
       "    </tr>\n",
       "    <tr>\n",
       "      <th>37</th>\n",
       "      <td>2023-01-12</td>\n",
       "      <td>1265</td>\n",
       "    </tr>\n",
       "    <tr>\n",
       "      <th>38</th>\n",
       "      <td>2023-01-13</td>\n",
       "      <td>892</td>\n",
       "    </tr>\n",
       "    <tr>\n",
       "      <th>39</th>\n",
       "      <td>2023-01-14</td>\n",
       "      <td>289</td>\n",
       "    </tr>\n",
       "    <tr>\n",
       "      <th>40</th>\n",
       "      <td>2023-01-15</td>\n",
       "      <td>566</td>\n",
       "    </tr>\n",
       "    <tr>\n",
       "      <th>41</th>\n",
       "      <td>2023-01-16</td>\n",
       "      <td>1692</td>\n",
       "    </tr>\n",
       "    <tr>\n",
       "      <th>42</th>\n",
       "      <td>2023-01-17</td>\n",
       "      <td>1097</td>\n",
       "    </tr>\n",
       "    <tr>\n",
       "      <th>43</th>\n",
       "      <td>2023-01-18</td>\n",
       "      <td>1302</td>\n",
       "    </tr>\n",
       "    <tr>\n",
       "      <th>44</th>\n",
       "      <td>2023-01-19</td>\n",
       "      <td>1405</td>\n",
       "    </tr>\n",
       "    <tr>\n",
       "      <th>45</th>\n",
       "      <td>2023-01-20</td>\n",
       "      <td>945</td>\n",
       "    </tr>\n",
       "  </tbody>\n",
       "</table>\n",
       "</div>"
      ],
      "text/plain": [
       "         Data  Vendas\n",
       "0  2022-12-06     870\n",
       "1  2022-12-07     868\n",
       "2  2022-12-08    1189\n",
       "3  2022-12-09     742\n",
       "4  2022-12-10     317\n",
       "5  2022-12-11     685\n",
       "6  2022-12-12    1366\n",
       "7  2022-12-13    1213\n",
       "8  2022-12-14    1055\n",
       "9  2022-12-15    1343\n",
       "10 2022-12-16     832\n",
       "11 2022-12-17     240\n",
       "12 2022-12-18     235\n",
       "13 2022-12-19    1050\n",
       "14 2022-12-20     711\n",
       "15 2022-12-21     745\n",
       "16 2022-12-22    1009\n",
       "17 2022-12-23      18\n",
       "18 2022-12-24      40\n",
       "19 2022-12-25      67\n",
       "20 2022-12-26     821\n",
       "21 2022-12-27     572\n",
       "22 2022-12-28     429\n",
       "23 2022-12-29     638\n",
       "24 2022-12-30     106\n",
       "25 2022-12-31      54\n",
       "26 2023-01-01     144\n",
       "27 2023-01-02     814\n",
       "28 2023-01-03     679\n",
       "29 2023-01-04     712\n",
       "30 2023-01-05    1229\n",
       "31 2023-01-06     821\n",
       "32 2023-01-07     319\n",
       "33 2023-01-08     317\n",
       "34 2023-01-09    1317\n",
       "35 2023-01-10     807\n",
       "36 2023-01-11     923\n",
       "37 2023-01-12    1265\n",
       "38 2023-01-13     892\n",
       "39 2023-01-14     289\n",
       "40 2023-01-15     566\n",
       "41 2023-01-16    1692\n",
       "42 2023-01-17    1097\n",
       "43 2023-01-18    1302\n",
       "44 2023-01-19    1405\n",
       "45 2023-01-20     945"
      ]
     },
     "execution_count": 251,
     "metadata": {},
     "output_type": "execute_result"
    }
   ],
   "source": [
    "df"
   ]
  },
  {
   "cell_type": "markdown",
   "id": "4ce78ecc",
   "metadata": {},
   "source": [
    "## Visualização e Análise Exploratória"
   ]
  },
  {
   "cell_type": "code",
   "execution_count": 252,
   "id": "32230563",
   "metadata": {},
   "outputs": [
    {
     "name": "stdout",
     "output_type": "stream",
     "text": [
      "<class 'pandas.core.frame.DataFrame'>\n",
      "RangeIndex: 46 entries, 0 to 45\n",
      "Data columns (total 2 columns):\n",
      " #   Column  Non-Null Count  Dtype         \n",
      "---  ------  --------------  -----         \n",
      " 0   Data    46 non-null     datetime64[ns]\n",
      " 1   Vendas  46 non-null     int64         \n",
      "dtypes: datetime64[ns](1), int64(1)\n",
      "memory usage: 864.0 bytes\n"
     ]
    }
   ],
   "source": [
    "df.info()"
   ]
  },
  {
   "cell_type": "markdown",
   "id": "d36eedc5",
   "metadata": {},
   "source": [
    "Não temos valores nulos e os tipos dos dados estão corretamente atribuídos: datetime para Data e inteiro para Vendas."
   ]
  },
  {
   "cell_type": "code",
   "execution_count": 253,
   "id": "50606164",
   "metadata": {},
   "outputs": [
    {
     "data": {
      "text/html": [
       "<div>\n",
       "<style scoped>\n",
       "    .dataframe tbody tr th:only-of-type {\n",
       "        vertical-align: middle;\n",
       "    }\n",
       "\n",
       "    .dataframe tbody tr th {\n",
       "        vertical-align: top;\n",
       "    }\n",
       "\n",
       "    .dataframe thead th {\n",
       "        text-align: right;\n",
       "    }\n",
       "</style>\n",
       "<table border=\"1\" class=\"dataframe\">\n",
       "  <thead>\n",
       "    <tr style=\"text-align: right;\">\n",
       "      <th></th>\n",
       "      <th>Data</th>\n",
       "      <th>Vendas</th>\n",
       "    </tr>\n",
       "  </thead>\n",
       "  <tbody>\n",
       "    <tr>\n",
       "      <th>0</th>\n",
       "      <td>2022-12-06</td>\n",
       "      <td>870</td>\n",
       "    </tr>\n",
       "    <tr>\n",
       "      <th>1</th>\n",
       "      <td>2022-12-07</td>\n",
       "      <td>868</td>\n",
       "    </tr>\n",
       "    <tr>\n",
       "      <th>2</th>\n",
       "      <td>2022-12-08</td>\n",
       "      <td>1189</td>\n",
       "    </tr>\n",
       "    <tr>\n",
       "      <th>3</th>\n",
       "      <td>2022-12-09</td>\n",
       "      <td>742</td>\n",
       "    </tr>\n",
       "    <tr>\n",
       "      <th>4</th>\n",
       "      <td>2022-12-10</td>\n",
       "      <td>317</td>\n",
       "    </tr>\n",
       "  </tbody>\n",
       "</table>\n",
       "</div>"
      ],
      "text/plain": [
       "        Data  Vendas\n",
       "0 2022-12-06     870\n",
       "1 2022-12-07     868\n",
       "2 2022-12-08    1189\n",
       "3 2022-12-09     742\n",
       "4 2022-12-10     317"
      ]
     },
     "execution_count": 253,
     "metadata": {},
     "output_type": "execute_result"
    }
   ],
   "source": [
    "# visualizando os dados\n",
    "df.head()"
   ]
  },
  {
   "cell_type": "code",
   "execution_count": 254,
   "id": "d42698d2",
   "metadata": {},
   "outputs": [
    {
     "data": {
      "text/html": [
       "<div>\n",
       "<style scoped>\n",
       "    .dataframe tbody tr th:only-of-type {\n",
       "        vertical-align: middle;\n",
       "    }\n",
       "\n",
       "    .dataframe tbody tr th {\n",
       "        vertical-align: top;\n",
       "    }\n",
       "\n",
       "    .dataframe thead th {\n",
       "        text-align: right;\n",
       "    }\n",
       "</style>\n",
       "<table border=\"1\" class=\"dataframe\">\n",
       "  <thead>\n",
       "    <tr style=\"text-align: right;\">\n",
       "      <th></th>\n",
       "      <th>Data</th>\n",
       "      <th>Vendas</th>\n",
       "    </tr>\n",
       "  </thead>\n",
       "  <tbody>\n",
       "    <tr>\n",
       "      <th>41</th>\n",
       "      <td>2023-01-16</td>\n",
       "      <td>1692</td>\n",
       "    </tr>\n",
       "    <tr>\n",
       "      <th>42</th>\n",
       "      <td>2023-01-17</td>\n",
       "      <td>1097</td>\n",
       "    </tr>\n",
       "    <tr>\n",
       "      <th>43</th>\n",
       "      <td>2023-01-18</td>\n",
       "      <td>1302</td>\n",
       "    </tr>\n",
       "    <tr>\n",
       "      <th>44</th>\n",
       "      <td>2023-01-19</td>\n",
       "      <td>1405</td>\n",
       "    </tr>\n",
       "    <tr>\n",
       "      <th>45</th>\n",
       "      <td>2023-01-20</td>\n",
       "      <td>945</td>\n",
       "    </tr>\n",
       "  </tbody>\n",
       "</table>\n",
       "</div>"
      ],
      "text/plain": [
       "         Data  Vendas\n",
       "41 2023-01-16    1692\n",
       "42 2023-01-17    1097\n",
       "43 2023-01-18    1302\n",
       "44 2023-01-19    1405\n",
       "45 2023-01-20     945"
      ]
     },
     "execution_count": 254,
     "metadata": {},
     "output_type": "execute_result"
    }
   ],
   "source": [
    "df.tail()"
   ]
  },
  {
   "cell_type": "code",
   "execution_count": 255,
   "id": "bcfe36a1",
   "metadata": {},
   "outputs": [
    {
     "data": {
      "text/html": [
       "<div>\n",
       "<style scoped>\n",
       "    .dataframe tbody tr th:only-of-type {\n",
       "        vertical-align: middle;\n",
       "    }\n",
       "\n",
       "    .dataframe tbody tr th {\n",
       "        vertical-align: top;\n",
       "    }\n",
       "\n",
       "    .dataframe thead th {\n",
       "        text-align: right;\n",
       "    }\n",
       "</style>\n",
       "<table border=\"1\" class=\"dataframe\">\n",
       "  <thead>\n",
       "    <tr style=\"text-align: right;\">\n",
       "      <th></th>\n",
       "      <th>Vendas</th>\n",
       "    </tr>\n",
       "  </thead>\n",
       "  <tbody>\n",
       "    <tr>\n",
       "      <th>count</th>\n",
       "      <td>46.000000</td>\n",
       "    </tr>\n",
       "    <tr>\n",
       "      <th>mean</th>\n",
       "      <td>755.434783</td>\n",
       "    </tr>\n",
       "    <tr>\n",
       "      <th>std</th>\n",
       "      <td>430.762201</td>\n",
       "    </tr>\n",
       "    <tr>\n",
       "      <th>min</th>\n",
       "      <td>18.000000</td>\n",
       "    </tr>\n",
       "    <tr>\n",
       "      <th>25%</th>\n",
       "      <td>346.500000</td>\n",
       "    </tr>\n",
       "    <tr>\n",
       "      <th>50%</th>\n",
       "      <td>810.500000</td>\n",
       "    </tr>\n",
       "    <tr>\n",
       "      <th>75%</th>\n",
       "      <td>1053.750000</td>\n",
       "    </tr>\n",
       "    <tr>\n",
       "      <th>max</th>\n",
       "      <td>1692.000000</td>\n",
       "    </tr>\n",
       "  </tbody>\n",
       "</table>\n",
       "</div>"
      ],
      "text/plain": [
       "            Vendas\n",
       "count    46.000000\n",
       "mean    755.434783\n",
       "std     430.762201\n",
       "min      18.000000\n",
       "25%     346.500000\n",
       "50%     810.500000\n",
       "75%    1053.750000\n",
       "max    1692.000000"
      ]
     },
     "execution_count": 255,
     "metadata": {},
     "output_type": "execute_result"
    }
   ],
   "source": [
    "# estatísticas descritivas\n",
    "df.describe()"
   ]
  },
  {
   "cell_type": "markdown",
   "id": "4ed71ea2",
   "metadata": {},
   "source": [
    "Podemos perceber uma grande variação nos valores de Vendas, de acordo com o desvio padrão e a amplitude (max - min), indicando que a série temporal provavelmente não é estacionária.\n",
    "\n",
    "Visualmente podemos tirar essa prova melhor."
   ]
  },
  {
   "cell_type": "code",
   "execution_count": 256,
   "id": "935833b4",
   "metadata": {},
   "outputs": [
    {
     "data": {
      "text/plain": [
       "[<matplotlib.lines.Line2D at 0x19077980670>]"
      ]
     },
     "execution_count": 256,
     "metadata": {},
     "output_type": "execute_result"
    },
    {
     "data": {
      "image/png": "[encoded data removed]",
      "text/plain": [
       "<Figure size 720x576 with 1 Axes>"
      ]
     },
     "metadata": {
      "needs_background": "light"
     },
     "output_type": "display_data"
    }
   ],
   "source": [
    "df = df.set_index('Data')\n",
    "\n",
    "plt.figure(figsize=(10, 8))\n",
    "plt.plot(df)"
   ]
  },
  {
   "cell_type": "markdown",
   "id": "29f40ac7",
   "metadata": {},
   "source": [
    "Realmente os dados estão variando bastante no tempo, indicando ser uma série não estacionária.\n",
    "\n",
    "Neste caso, uma boa abordagem é utilizar o modelo ARIMA, modelo este já conhecido e utilizado nessas situações."
   ]
  },
  {
   "cell_type": "markdown",
   "id": "90750abe",
   "metadata": {},
   "source": [
    "## ARIMA"
   ]
  },
  {
   "cell_type": "code",
   "execution_count": 257,
   "id": "0389a18d",
   "metadata": {
    "scrolled": true
   },
   "outputs": [
    {
     "data": {
      "image/png": "[encoded data removed]",
      "text/plain": [
       "<Figure size 432x288 with 1 Axes>"
      ]
     },
     "metadata": {
      "needs_background": "light"
     },
     "output_type": "display_data"
    }
   ],
   "source": [
    "from pandas.plotting import autocorrelation_plot\n",
    "\n",
    "autocorrelation_plot(df)\n",
    "plt.show()"
   ]
  },
  {
   "cell_type": "markdown",
   "id": "06807a08",
   "metadata": {},
   "source": [
    "Avaliando o gráfico de autocorrelação, percebemos que por volta de 7 Lags há uma alta correlação, acima do nível de significância. Usaremos este valor no modelo ARIMA."
   ]
  },
  {
   "cell_type": "markdown",
   "id": "a3148879",
   "metadata": {},
   "source": [
    "Será dividido o dataframe em treino e teste para validar o modelo com os dados de teste. \n",
    "\n",
    "Considerando que temos 46 dados, separaremos 9 para teste para enriquecer o máximo o treinamento."
   ]
  },
  {
   "cell_type": "code",
   "execution_count": 258,
   "id": "a15c27e9",
   "metadata": {},
   "outputs": [
    {
     "data": {
      "text/plain": [
       "0.1956521739130435"
      ]
     },
     "execution_count": 258,
     "metadata": {},
     "output_type": "execute_result"
    }
   ],
   "source": [
    "9/46"
   ]
  },
  {
   "cell_type": "markdown",
   "id": "12f651a8",
   "metadata": {},
   "source": [
    "9 valores representam aproximadamente 20% dos dados, o que é uma porcentagem aceita e dentro dos padrões"
   ]
  },
  {
   "cell_type": "code",
   "execution_count": 259,
   "id": "8b8f782e",
   "metadata": {},
   "outputs": [],
   "source": [
    "# dividindo o dataframe em treino e teste\n",
    "quantidade_treinamento = 46 - 9\n",
    "train = df.iloc[0:quantidade_treinamento]\n",
    "test = df.iloc[quantidade_treinamento:46]"
   ]
  },
  {
   "cell_type": "code",
   "execution_count": 260,
   "id": "7f135e1e",
   "metadata": {},
   "outputs": [
    {
     "name": "stderr",
     "output_type": "stream",
     "text": [
      "C:\\Users\\victo\\anaconda3\\lib\\site-packages\\statsmodels\\tsa\\base\\tsa_model.py:471: ValueWarning: No frequency information was provided, so inferred frequency D will be used.\n",
      "  self._init_dates(dates, freq)\n",
      "C:\\Users\\victo\\anaconda3\\lib\\site-packages\\statsmodels\\tsa\\base\\tsa_model.py:471: ValueWarning: No frequency information was provided, so inferred frequency D will be used.\n",
      "  self._init_dates(dates, freq)\n",
      "C:\\Users\\victo\\anaconda3\\lib\\site-packages\\statsmodels\\tsa\\base\\tsa_model.py:471: ValueWarning: No frequency information was provided, so inferred frequency D will be used.\n",
      "  self._init_dates(dates, freq)\n",
      "C:\\Users\\victo\\anaconda3\\lib\\site-packages\\statsmodels\\base\\model.py:604: ConvergenceWarning: Maximum Likelihood optimization failed to converge. Check mle_retvals\n",
      "  warnings.warn(\"Maximum Likelihood optimization failed to \"\n"
     ]
    }
   ],
   "source": [
    "from statsmodels.tsa.arima.model import ARIMA\n",
    "\n",
    "# declarando e configurando o modelo\n",
    "model = ARIMA (train, order=(7, 1, 1))  # 7 lags, 1 nível de diferenciação e 1 nível de média móvel (padrão)\n",
    "\n",
    "# executando o modelo\n",
    "fit = model.fit()\n",
    "\n",
    "# erros entre a previsão e o valor real\n",
    "residuos = pd.DataFrame(fit.resid)"
   ]
  },
  {
   "cell_type": "code",
   "execution_count": 261,
   "id": "ad3f4858",
   "metadata": {},
   "outputs": [
    {
     "data": {
      "image/png": "[encoded data removed]",
      "text/plain": [
       "<Figure size 432x288 with 1 Axes>"
      ]
     },
     "metadata": {
      "needs_background": "light"
     },
     "output_type": "display_data"
    }
   ],
   "source": [
    "residuos.plot()\n",
    "plt.show()"
   ]
  },
  {
   "cell_type": "code",
   "execution_count": 262,
   "id": "0369a19d",
   "metadata": {},
   "outputs": [
    {
     "data": {
      "image/png": "[encoded data removed]",
      "text/plain": [
       "<Figure size 432x288 with 1 Axes>"
      ]
     },
     "metadata": {
      "needs_background": "light"
     },
     "output_type": "display_data"
    }
   ],
   "source": [
    "residuos.plot(kind=\"kde\")\n",
    "plt.show()"
   ]
  },
  {
   "cell_type": "markdown",
   "id": "e4d5ecaa",
   "metadata": {},
   "source": [
    "Podemos observar no primeiro gráfico uma aleatoriedade nos dados, mostrando que não há nenhuma tendência de erro.\n",
    "\n",
    "Além disso, observando o segundo gráfico, temos uma distribuição normal identificando os residuos."
   ]
  },
  {
   "cell_type": "code",
   "execution_count": 263,
   "id": "abed3fd7",
   "metadata": {},
   "outputs": [
    {
     "data": {
      "text/html": [
       "<div>\n",
       "<style scoped>\n",
       "    .dataframe tbody tr th:only-of-type {\n",
       "        vertical-align: middle;\n",
       "    }\n",
       "\n",
       "    .dataframe tbody tr th {\n",
       "        vertical-align: top;\n",
       "    }\n",
       "\n",
       "    .dataframe thead th {\n",
       "        text-align: right;\n",
       "    }\n",
       "</style>\n",
       "<table border=\"1\" class=\"dataframe\">\n",
       "  <thead>\n",
       "    <tr style=\"text-align: right;\">\n",
       "      <th></th>\n",
       "      <th>0</th>\n",
       "    </tr>\n",
       "  </thead>\n",
       "  <tbody>\n",
       "    <tr>\n",
       "      <th>count</th>\n",
       "      <td>37.000000</td>\n",
       "    </tr>\n",
       "    <tr>\n",
       "      <th>mean</th>\n",
       "      <td>30.503977</td>\n",
       "    </tr>\n",
       "    <tr>\n",
       "      <th>std</th>\n",
       "      <td>284.872522</td>\n",
       "    </tr>\n",
       "    <tr>\n",
       "      <th>min</th>\n",
       "      <td>-621.021208</td>\n",
       "    </tr>\n",
       "    <tr>\n",
       "      <th>25%</th>\n",
       "      <td>-145.636535</td>\n",
       "    </tr>\n",
       "    <tr>\n",
       "      <th>50%</th>\n",
       "      <td>29.150194</td>\n",
       "    </tr>\n",
       "    <tr>\n",
       "      <th>75%</th>\n",
       "      <td>193.836418</td>\n",
       "    </tr>\n",
       "    <tr>\n",
       "      <th>max</th>\n",
       "      <td>870.000000</td>\n",
       "    </tr>\n",
       "  </tbody>\n",
       "</table>\n",
       "</div>"
      ],
      "text/plain": [
       "                0\n",
       "count   37.000000\n",
       "mean    30.503977\n",
       "std    284.872522\n",
       "min   -621.021208\n",
       "25%   -145.636535\n",
       "50%     29.150194\n",
       "75%    193.836418\n",
       "max    870.000000"
      ]
     },
     "execution_count": 263,
     "metadata": {},
     "output_type": "execute_result"
    }
   ],
   "source": [
    "residuos.describe()"
   ]
  },
  {
   "cell_type": "markdown",
   "id": "74401f28",
   "metadata": {},
   "source": [
    "Outro detalhe é quanto ao erro médio, que é de 30 unidades"
   ]
  },
  {
   "cell_type": "markdown",
   "id": "385f347a",
   "metadata": {},
   "source": [
    "Além de separar em teste e treino, podemos criar uma nova coluna no dataset de teste e acrescentar ali a previsão do modelo para os próximos 9 dias, que é exatamente a quantidade de dias do dataset de teste"
   ]
  },
  {
   "cell_type": "code",
   "execution_count": 264,
   "id": "557d97aa",
   "metadata": {},
   "outputs": [
    {
     "name": "stderr",
     "output_type": "stream",
     "text": [
      "C:\\Users\\victo\\AppData\\Local\\Temp\\ipykernel_7200\\3575104900.py:1: SettingWithCopyWarning: \n",
      "A value is trying to be set on a copy of a slice from a DataFrame.\n",
      "Try using .loc[row_indexer,col_indexer] = value instead\n",
      "\n",
      "See the caveats in the documentation: https://pandas.pydata.org/pandas-docs/stable/user_guide/indexing.html#returning-a-view-versus-a-copy\n",
      "  test['Previsao'] = fit.predict(start=quantidade_treinamento,end=len(df)-1,dynamic=True)\n"
     ]
    }
   ],
   "source": [
    "test['Previsao'] = fit.predict(start=quantidade_treinamento,end=len(df)-1,dynamic=True)"
   ]
  },
  {
   "cell_type": "code",
   "execution_count": 265,
   "id": "9026676d",
   "metadata": {},
   "outputs": [
    {
     "data": {
      "text/html": [
       "<div>\n",
       "<style scoped>\n",
       "    .dataframe tbody tr th:only-of-type {\n",
       "        vertical-align: middle;\n",
       "    }\n",
       "\n",
       "    .dataframe tbody tr th {\n",
       "        vertical-align: top;\n",
       "    }\n",
       "\n",
       "    .dataframe thead th {\n",
       "        text-align: right;\n",
       "    }\n",
       "</style>\n",
       "<table border=\"1\" class=\"dataframe\">\n",
       "  <thead>\n",
       "    <tr style=\"text-align: right;\">\n",
       "      <th></th>\n",
       "      <th>Vendas</th>\n",
       "      <th>Previsao</th>\n",
       "    </tr>\n",
       "    <tr>\n",
       "      <th>Data</th>\n",
       "      <th></th>\n",
       "      <th></th>\n",
       "    </tr>\n",
       "  </thead>\n",
       "  <tbody>\n",
       "    <tr>\n",
       "      <th>2023-01-12</th>\n",
       "      <td>1265</td>\n",
       "      <td>1358.761962</td>\n",
       "    </tr>\n",
       "    <tr>\n",
       "      <th>2023-01-13</th>\n",
       "      <td>892</td>\n",
       "      <td>1010.081913</td>\n",
       "    </tr>\n",
       "    <tr>\n",
       "      <th>2023-01-14</th>\n",
       "      <td>289</td>\n",
       "      <td>478.411900</td>\n",
       "    </tr>\n",
       "    <tr>\n",
       "      <th>2023-01-15</th>\n",
       "      <td>566</td>\n",
       "      <td>513.811194</td>\n",
       "    </tr>\n",
       "    <tr>\n",
       "      <th>2023-01-16</th>\n",
       "      <td>1692</td>\n",
       "      <td>1335.102558</td>\n",
       "    </tr>\n",
       "    <tr>\n",
       "      <th>2023-01-17</th>\n",
       "      <td>1097</td>\n",
       "      <td>907.889119</td>\n",
       "    </tr>\n",
       "    <tr>\n",
       "      <th>2023-01-18</th>\n",
       "      <td>1302</td>\n",
       "      <td>948.808619</td>\n",
       "    </tr>\n",
       "    <tr>\n",
       "      <th>2023-01-19</th>\n",
       "      <td>1405</td>\n",
       "      <td>1360.233486</td>\n",
       "    </tr>\n",
       "    <tr>\n",
       "      <th>2023-01-20</th>\n",
       "      <td>945</td>\n",
       "      <td>1075.847906</td>\n",
       "    </tr>\n",
       "  </tbody>\n",
       "</table>\n",
       "</div>"
      ],
      "text/plain": [
       "            Vendas     Previsao\n",
       "Data                           \n",
       "2023-01-12    1265  1358.761962\n",
       "2023-01-13     892  1010.081913\n",
       "2023-01-14     289   478.411900\n",
       "2023-01-15     566   513.811194\n",
       "2023-01-16    1692  1335.102558\n",
       "2023-01-17    1097   907.889119\n",
       "2023-01-18    1302   948.808619\n",
       "2023-01-19    1405  1360.233486\n",
       "2023-01-20     945  1075.847906"
      ]
     },
     "execution_count": 265,
     "metadata": {},
     "output_type": "execute_result"
    }
   ],
   "source": [
    "test"
   ]
  },
  {
   "cell_type": "code",
   "execution_count": 266,
   "id": "91048e4c",
   "metadata": {},
   "outputs": [
    {
     "data": {
      "text/plain": [
       "<AxesSubplot:xlabel='Data'>"
      ]
     },
     "execution_count": 266,
     "metadata": {},
     "output_type": "execute_result"
    },
    {
     "data": {
      "image/png": "[encoded data removed]",
      "text/plain": [
       "<Figure size 432x288 with 1 Axes>"
      ]
     },
     "metadata": {
      "needs_background": "light"
     },
     "output_type": "display_data"
    }
   ],
   "source": [
    "test.plot()"
   ]
  },
  {
   "cell_type": "markdown",
   "id": "d7115cb9",
   "metadata": {},
   "source": [
    "# Avaliando o Modelo"
   ]
  },
  {
   "cell_type": "markdown",
   "id": "be40235a",
   "metadata": {},
   "source": [
    "Apenas analisando visualmente os valores, podemos perceber que o modelo tem uma tendência de comportamento correto, já que para valores reais baixos, os valores de previsão também foram menores (o mesmo vale para valores maiores)... enfim, iremos avaliar melhor mais a frente com uma métrica recomendada pela literatura, denominada **root mean squared error ou RMSE**."
   ]
  },
  {
   "cell_type": "code",
   "execution_count": 267,
   "id": "3596bec9",
   "metadata": {},
   "outputs": [
    {
     "name": "stdout",
     "output_type": "stream",
     "text": [
      "Test RMSE: 202.304\n"
     ]
    }
   ],
   "source": [
    "# Avaliando o modelo\n",
    "from sklearn.metrics import mean_squared_error\n",
    "\n",
    "rmse = np.sqrt(mean_squared_error(test['Vendas'], test['Previsao']))\n",
    "print('Test RMSE: %.3f' % rmse)"
   ]
  },
  {
   "cell_type": "markdown",
   "id": "664e3d28",
   "metadata": {},
   "source": [
    "O modelo proposto está apresentando uma variação de aproximadamente 202 unidades (pra mais ou pra menos) de acordo com o esperado.\n",
    "\n",
    "Podemos ainda melhorar essa métrica..."
   ]
  },
  {
   "cell_type": "markdown",
   "id": "e99500f7",
   "metadata": {},
   "source": [
    "# Melhorando o Modelo"
   ]
  },
  {
   "cell_type": "markdown",
   "id": "54c70c83",
   "metadata": {},
   "source": [
    "Já que os dados estão bem limpos, ou seja, não existem muitas alterações para fazer na base de dados em si, o que podemos fazer é modificar os parâmetros passados para o ARIMA, com o objetivo de diminuir o RMSE, indicando uma melhora no modelo."
   ]
  },
  {
   "cell_type": "code",
   "execution_count": 220,
   "id": "8ac77d09",
   "metadata": {},
   "outputs": [
    {
     "name": "stderr",
     "output_type": "stream",
     "text": [
      "C:\\Users\\victo\\anaconda3\\lib\\site-packages\\statsmodels\\tsa\\base\\tsa_model.py:471: ValueWarning: No frequency information was provided, so inferred frequency D will be used.\n",
      "  self._init_dates(dates, freq)\n",
      "C:\\Users\\victo\\anaconda3\\lib\\site-packages\\statsmodels\\tsa\\base\\tsa_model.py:471: ValueWarning: No frequency information was provided, so inferred frequency D will be used.\n",
      "  self._init_dates(dates, freq)\n",
      "C:\\Users\\victo\\anaconda3\\lib\\site-packages\\statsmodels\\tsa\\base\\tsa_model.py:471: ValueWarning: No frequency information was provided, so inferred frequency D will be used.\n",
      "  self._init_dates(dates, freq)\n",
      "C:\\Users\\victo\\anaconda3\\lib\\site-packages\\statsmodels\\tsa\\statespace\\sarimax.py:866: UserWarning: Too few observations to estimate starting parameters for ARMA and trend. All parameters except for variances will be set to zeros.\n",
      "  warn('Too few observations to estimate starting parameters%s.'\n",
      "C:\\Users\\victo\\anaconda3\\lib\\site-packages\\statsmodels\\base\\model.py:604: ConvergenceWarning: Maximum Likelihood optimization failed to converge. Check mle_retvals\n",
      "  warnings.warn(\"Maximum Likelihood optimization failed to \"\n",
      "C:\\Users\\victo\\AppData\\Local\\Temp\\ipykernel_7200\\741589431.py:9: SettingWithCopyWarning: \n",
      "A value is trying to be set on a copy of a slice from a DataFrame.\n",
      "Try using .loc[row_indexer,col_indexer] = value instead\n",
      "\n",
      "See the caveats in the documentation: https://pandas.pydata.org/pandas-docs/stable/user_guide/indexing.html#returning-a-view-versus-a-copy\n",
      "  test['Previsao'] = fit_melhorado.predict(start=quantidade_treinamento,end=len(df)-1,dynamic=True)\n"
     ]
    }
   ],
   "source": [
    "model_melhorado = ARIMA (train, order=(40, 1, 1))\n",
    "\n",
    "# executando o modelo\n",
    "fit_melhorado = model_melhorado.fit()\n",
    "\n",
    "# resetando o teste\n",
    "test = df.iloc[quantidade_treinamento:46]\n",
    "\n",
    "test['Previsao'] = fit_melhorado.predict(start=quantidade_treinamento,end=len(df)-1,dynamic=True)"
   ]
  },
  {
   "cell_type": "code",
   "execution_count": 206,
   "id": "7b3ae16b",
   "metadata": {},
   "outputs": [
    {
     "data": {
      "text/plain": [
       "<AxesSubplot:xlabel='Data'>"
      ]
     },
     "execution_count": 206,
     "metadata": {},
     "output_type": "execute_result"
    },
    {
     "data": {
      "image/png": "[encoded data removed]",
      "text/plain": [
       "<Figure size 432x288 with 1 Axes>"
      ]
     },
     "metadata": {
      "needs_background": "light"
     },
     "output_type": "display_data"
    }
   ],
   "source": [
    "test.plot()"
   ]
  },
  {
   "cell_type": "code",
   "execution_count": 221,
   "id": "dbcfd0c4",
   "metadata": {},
   "outputs": [
    {
     "name": "stdout",
     "output_type": "stream",
     "text": [
      "Test RMSE: 560.066\n"
     ]
    }
   ],
   "source": [
    "rmse = np.sqrt(mean_squared_error(test['Vendas'], test['Previsao']))\n",
    "print('Test RMSE: %.3f' % rmse)"
   ]
  },
  {
   "cell_type": "markdown",
   "id": "7c9ecd01",
   "metadata": {},
   "source": [
    "# Tarefa: Prever os 5 próximos dias após o último dia da base de dados"
   ]
  },
  {
   "cell_type": "code",
   "execution_count": 269,
   "id": "04fc0e5c",
   "metadata": {},
   "outputs": [
    {
     "name": "stderr",
     "output_type": "stream",
     "text": [
      "C:\\Users\\victo\\anaconda3\\lib\\site-packages\\statsmodels\\tsa\\statespace\\kalman_filter.py:2290: ValueWarning: Dynamic prediction specified to begin during out-of-sample forecasting period, and so has no effect.\n",
      "  warn('Dynamic prediction specified to begin during'\n"
     ]
    },
    {
     "data": {
      "text/html": [
       "<div>\n",
       "<style scoped>\n",
       "    .dataframe tbody tr th:only-of-type {\n",
       "        vertical-align: middle;\n",
       "    }\n",
       "\n",
       "    .dataframe tbody tr th {\n",
       "        vertical-align: top;\n",
       "    }\n",
       "\n",
       "    .dataframe thead th {\n",
       "        text-align: right;\n",
       "    }\n",
       "</style>\n",
       "<table border=\"1\" class=\"dataframe\">\n",
       "  <thead>\n",
       "    <tr style=\"text-align: right;\">\n",
       "      <th></th>\n",
       "      <th>predicted_mean</th>\n",
       "    </tr>\n",
       "  </thead>\n",
       "  <tbody>\n",
       "    <tr>\n",
       "      <th>2023-01-20</th>\n",
       "      <td>1075.847906</td>\n",
       "    </tr>\n",
       "    <tr>\n",
       "      <th>2023-01-21</th>\n",
       "      <td>548.385501</td>\n",
       "    </tr>\n",
       "    <tr>\n",
       "      <th>2023-01-22</th>\n",
       "      <td>612.553388</td>\n",
       "    </tr>\n",
       "    <tr>\n",
       "      <th>2023-01-23</th>\n",
       "      <td>1304.572627</td>\n",
       "    </tr>\n",
       "    <tr>\n",
       "      <th>2023-01-24</th>\n",
       "      <td>946.063634</td>\n",
       "    </tr>\n",
       "    <tr>\n",
       "      <th>2023-01-25</th>\n",
       "      <td>939.109100</td>\n",
       "    </tr>\n",
       "  </tbody>\n",
       "</table>\n",
       "</div>"
      ],
      "text/plain": [
       "            predicted_mean\n",
       "2023-01-20     1075.847906\n",
       "2023-01-21      548.385501\n",
       "2023-01-22      612.553388\n",
       "2023-01-23     1304.572627\n",
       "2023-01-24      946.063634\n",
       "2023-01-25      939.109100"
      ]
     },
     "execution_count": 269,
     "metadata": {},
     "output_type": "execute_result"
    }
   ],
   "source": [
    "previsao = fit.predict(start=len(df)-1, end= len(df)+4, dynamic=True)\n",
    "previsao = pd.DataFrame(previsao)\n",
    "\n",
    "previsao"
   ]
  },
  {
   "cell_type": "markdown",
   "id": "ce907934",
   "metadata": {},
   "source": [
    "Podemos visualizar a projeção no gráfico também"
   ]
  },
  {
   "cell_type": "code",
   "execution_count": 270,
   "id": "b2c7b7f4",
   "metadata": {},
   "outputs": [
    {
     "data": {
      "text/plain": [
       "<AxesSubplot:>"
      ]
     },
     "execution_count": 270,
     "metadata": {},
     "output_type": "execute_result"
    },
    {
     "data": {
      "image/png": "[encoded data removed]",
      "text/plain": [
       "<Figure size 432x288 with 1 Axes>"
      ]
     },
     "metadata": {
      "needs_background": "light"
     },
     "output_type": "display_data"
    }
   ],
   "source": [
    "pd.concat([df, previsao]).plot()"
   ]
  },
  {
   "cell_type": "code",
   "execution_count": 271,
   "id": "d04665fb",
   "metadata": {},
   "outputs": [
    {
     "data": {
      "text/html": [
       "<div>\n",
       "<style scoped>\n",
       "    .dataframe tbody tr th:only-of-type {\n",
       "        vertical-align: middle;\n",
       "    }\n",
       "\n",
       "    .dataframe tbody tr th {\n",
       "        vertical-align: top;\n",
       "    }\n",
       "\n",
       "    .dataframe thead th {\n",
       "        text-align: right;\n",
       "    }\n",
       "</style>\n",
       "<table border=\"1\" class=\"dataframe\">\n",
       "  <thead>\n",
       "    <tr style=\"text-align: right;\">\n",
       "      <th></th>\n",
       "      <th>predicted_mean</th>\n",
       "    </tr>\n",
       "  </thead>\n",
       "  <tbody>\n",
       "    <tr>\n",
       "      <th>2023-01-21</th>\n",
       "      <td>548.385501</td>\n",
       "    </tr>\n",
       "    <tr>\n",
       "      <th>2023-01-22</th>\n",
       "      <td>612.553388</td>\n",
       "    </tr>\n",
       "    <tr>\n",
       "      <th>2023-01-23</th>\n",
       "      <td>1304.572627</td>\n",
       "    </tr>\n",
       "    <tr>\n",
       "      <th>2023-01-24</th>\n",
       "      <td>946.063634</td>\n",
       "    </tr>\n",
       "    <tr>\n",
       "      <th>2023-01-25</th>\n",
       "      <td>939.109100</td>\n",
       "    </tr>\n",
       "  </tbody>\n",
       "</table>\n",
       "</div>"
      ],
      "text/plain": [
       "            predicted_mean\n",
       "2023-01-21      548.385501\n",
       "2023-01-22      612.553388\n",
       "2023-01-23     1304.572627\n",
       "2023-01-24      946.063634\n",
       "2023-01-25      939.109100"
      ]
     },
     "execution_count": 271,
     "metadata": {},
     "output_type": "execute_result"
    }
   ],
   "source": [
    "previsao.tail(5)"
   ]
  },
  {
   "cell_type": "markdown",
   "id": "52138738",
   "metadata": {},
   "source": [
    "Acima estão disponibilizados os 5 valores de previsão (coluna 'predicted_mean' de demanda para os dias 21/01/2023 até 25/01/2023."
   ]
  }
 ],
 "metadata": {
  "kernelspec": {
   "display_name": "Python 3 (ipykernel)",
   "language": "python",
   "name": "python3"
  },
  "language_info": {
   "codemirror_mode": {
    "name": "ipython",
    "version": 3
   },
   "file_extension": ".py",
   "mimetype": "text/x-python",
   "name": "python",
   "nbconvert_exporter": "python",
   "pygments_lexer": "ipython3",
   "version": "3.9.12"
  }
 },
 "nbformat": 4,
 "nbformat_minor": 5
}
